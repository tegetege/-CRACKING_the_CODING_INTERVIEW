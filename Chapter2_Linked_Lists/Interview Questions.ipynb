{
 "cells": [
  {
   "cell_type": "markdown",
   "id": "1b67ea36",
   "metadata": {},
   "source": [
    "# Linked Lists"
   ]
  },
  {
   "cell_type": "code",
   "execution_count": 2,
   "id": "26c4fd8e",
   "metadata": {},
   "outputs": [],
   "source": [
    "# https://www.educative.io/edpresso/how-to-create-a-linked-list-in-python\n",
    "\n",
    "class Node:\n",
    "    def __init__(self, data = None, next = None):\n",
    "        self.data = data \n",
    "        self.next = next\n",
    "    \n",
    "    def addData(self, data):\n",
    "        self.data = data\n",
    "        \n",
    "    def showData(self):\n",
    "        return self.data\n",
    "    \n",
    "    def clone(self):\n",
    "        return Node(self.data)\n",
    "    \n",
    "    \n",
    "class LinkedList:\n",
    "    def __init__(self):\n",
    "        self.head = None\n",
    "    \n",
    "    def insert(self, data):\n",
    "        newNode = Node(data)\n",
    "        if self.head:\n",
    "            current = self.head\n",
    "            # pointerを一番後ろまで動かす\n",
    "            while(current.next):\n",
    "                current = current.next\n",
    "            current.next = newNode\n",
    "        else:\n",
    "            self.head = newNode\n",
    "    \n",
    "    def printLL(self):\n",
    "        current = self.head\n",
    "        while current:\n",
    "            print(current.data)\n",
    "            current = current.next"
   ]
  },
  {
   "cell_type": "code",
   "execution_count": 3,
   "id": "b8f60ad0",
   "metadata": {},
   "outputs": [
    {
     "name": "stdout",
     "output_type": "stream",
     "text": [
      "1\n",
      "<__main__.Node object at 0x103d520a0>\n",
      "2\n"
     ]
    }
   ],
   "source": [
    "firstNode = Node()\n",
    "firstNode.data = 1\n",
    "\n",
    "secondNode = Node()\n",
    "secondNode.data = 2\n",
    "\n",
    "firstNode.next = secondNode\n",
    "\n",
    "print(firstNode.data)\n",
    "print(firstNode.next)\n",
    "print(firstNode.next.data)"
   ]
  },
  {
   "cell_type": "markdown",
   "id": "4ab14fd4",
   "metadata": {},
   "source": [
    "# §2.1 Remove Dups"
   ]
  },
  {
   "cell_type": "code",
   "execution_count": 3,
   "id": "85e6a7f5",
   "metadata": {},
   "outputs": [
    {
     "name": "stdout",
     "output_type": "stream",
     "text": [
      "None\n"
     ]
    }
   ],
   "source": [
    "def removeDups(linkedList):\n",
    "    ansLL = Node()\n",
    "    lastNode = ansLL.next\n",
    "    seen = set()\n",
    "    \n",
    "    while linkedList:\n",
    "        if linkedList.data  not in seen:\n",
    "            node = Node(linkedList.data)\n",
    "            lastNode = node\n",
    "            lastNode = node.next\n",
    "        seen.add(linkedList.data)\n",
    "        linkedList = linkedList.next\n",
    "\n",
    "    return ansLL\n",
    "    \n",
    "if __name__ == '__main__':\n",
    "    node1 = Node(1)\n",
    "    node2 = Node(2)\n",
    "    node3 = Node(3)\n",
    "    node4 = Node(4)\n",
    "    node5 = Node(5)\n",
    "    node1.next = node2\n",
    "    node2.next = node3\n",
    "    node3.next = node4\n",
    "    node4.next = node5\n",
    "    \n",
    "    ansLL = removeDups(node1)\n",
    "    while ansLL:\n",
    "        print(ansLL.showData())\n",
    "        ansLL = ansLL.next"
   ]
  },
  {
   "cell_type": "markdown",
   "id": "b9e33064",
   "metadata": {},
   "source": [
    "## §2.2 Return Kth to Last"
   ]
  },
  {
   "cell_type": "code",
   "execution_count": 5,
   "id": "acf94cc3",
   "metadata": {},
   "outputs": [
    {
     "name": "stdout",
     "output_type": "stream",
     "text": [
      "1\n",
      "2\n",
      "3\n",
      "4\n",
      "5\n"
     ]
    }
   ],
   "source": [
    "def returnKthToLast(node, index):\n",
    "    for i in range(index - 1):\n",
    "        node = node.next\n",
    "    return node\n",
    "\n",
    "if __name__ == '__main__':\n",
    "    node0 = Node(0)\n",
    "    node1 = Node(1)\n",
    "    node2 = Node(2)\n",
    "    node3 = Node(3)\n",
    "    node4 = Node(4)\n",
    "    node5 = Node(5)\n",
    "    \n",
    "    node0.next = node1\n",
    "    node1.next = node2\n",
    "    node2.next = node3\n",
    "    node3.next = node4\n",
    "    node4.next = node5\n",
    "    \n",
    "    newLL =  returnKthToLast(node0, 2)\n",
    "    \n",
    "    while True:\n",
    "        print(newLL.data)\n",
    "        if newLL.next == None:\n",
    "            break\n",
    "        newLL = newLL.next\n"
   ]
  },
  {
   "cell_type": "markdown",
   "id": "35605baf",
   "metadata": {},
   "source": [
    "## §2.3 Delete Middle Node"
   ]
  },
  {
   "cell_type": "code",
   "execution_count": 3,
   "id": "8350d542",
   "metadata": {},
   "outputs": [
    {
     "name": "stdout",
     "output_type": "stream",
     "text": [
      "0\n",
      "1\n",
      "2\n",
      "4\n",
      "5\n"
     ]
    }
   ],
   "source": [
    "def deleteMiddleNode(node, index):\n",
    "    if index == 0:\n",
    "        node = node.next\n",
    "        return node\n",
    "    secoNode = node.next\n",
    "    if index == 1:\n",
    "        node.next = secoNode.next\n",
    "        return node\n",
    "    \n",
    "    targetNode = secoNode.next\n",
    "    preNode = secoNode\n",
    "    for i in range(2, index):\n",
    "        preNode = targetNode\n",
    "        targetNode = targetNode.next\n",
    "    preNode.next = targetNode.next\n",
    "    return node\n",
    "    \n",
    "\n",
    "if __name__ == '__main__':\n",
    "    # build Linked List\n",
    "    node0 = Node(0)\n",
    "    node1 = Node(1)\n",
    "    node2 = Node(2)\n",
    "    node3 = Node(3)\n",
    "    node4 = Node(4)\n",
    "    node5 = Node(5)\n",
    "    \n",
    "    node0.next = node1\n",
    "    node1.next = node2\n",
    "    node2.next = node3\n",
    "    node3.next = node4\n",
    "    node4.next = node5\n",
    "    \n",
    "    node = deleteMiddleNode(node0, 3) # indexの引数を0 ~ 5で試してみる\n",
    "    while True:\n",
    "        print(node.data)\n",
    "        if node.next == None:\n",
    "            break\n",
    "        node = node.next"
   ]
  },
  {
   "cell_type": "markdown",
   "id": "65d9a447",
   "metadata": {},
   "source": [
    "## §2.4 Partition"
   ]
  },
  {
   "cell_type": "code",
   "execution_count": 35,
   "id": "12dff3f5",
   "metadata": {},
   "outputs": [
    {
     "ename": "IndentationError",
     "evalue": "expected an indented block (2237206682.py, line 3)",
     "output_type": "error",
     "traceback": [
      "\u001b[0;36m  File \u001b[0;32m\"/var/folders/69/slyx1qtn5356g2qkhmhkddwm0000gn/T/ipykernel_63488/2237206682.py\"\u001b[0;36m, line \u001b[0;32m3\u001b[0m\n\u001b[0;31m    if __name__ == '__main__':\u001b[0m\n\u001b[0m    ^\u001b[0m\n\u001b[0;31mIndentationError\u001b[0m\u001b[0;31m:\u001b[0m expected an indented block\n"
     ]
    }
   ],
   "source": [
    "def partition(node, index):\n",
    "\n",
    "if __name__ == '__main__':"
   ]
  },
  {
   "cell_type": "markdown",
   "id": "3664052b",
   "metadata": {},
   "source": [
    "## §2.5 Sum Lists"
   ]
  },
  {
   "cell_type": "code",
   "execution_count": 47,
   "id": "dbec8533",
   "metadata": {},
   "outputs": [
    {
     "name": "stdout",
     "output_type": "stream",
     "text": [
      "list1 :  617\n",
      "list2 :  617\n",
      "sum :  912\n"
     ]
    }
   ],
   "source": [
    "def sumList(target):\n",
    "    ans = 0\n",
    "    carry = 0\n",
    "    while True:\n",
    "        ans += target.data * (10 ** carry)\n",
    "        if target.next == None:\n",
    "            break\n",
    "        target = target.next\n",
    "        carry += 1\n",
    "    return ans\n",
    "\n",
    "def sumLists(list1, list2):\n",
    "    list1Sum = sumList(list1)\n",
    "    print('list1 : ', list1Sum)\n",
    "    list2Sum = sumList(list2)\n",
    "    print('list2 : ', list1Sum)\n",
    "    return list1Sum + list2Sum\n",
    "\n",
    "if __name__ == '__main__':\n",
    "    node0 = Node(7)\n",
    "    node1 = Node(1)\n",
    "    node2 = Node(6)\n",
    "    node0.next = node1\n",
    "    node1.next = node2\n",
    "    \n",
    "    node3 = Node(5)\n",
    "    node4 = Node(9)\n",
    "    node5 = Node(2)\n",
    "    node3.next = node4\n",
    "    node4.next = node5\n",
    "    \n",
    "    print('sum : ' , sumLists(node0, node3))"
   ]
  },
  {
   "cell_type": "markdown",
   "id": "929a7b18",
   "metadata": {},
   "source": [
    "## §2.6 Palindrome (回文)"
   ]
  },
  {
   "cell_type": "code",
   "execution_count": 16,
   "id": "ef7ec633",
   "metadata": {},
   "outputs": [
    {
     "name": "stdout",
     "output_type": "stream",
     "text": [
      "オリジナルのLL\n",
      "0\n",
      "1\n",
      "2\n",
      "1\n",
      "0\n",
      "反転させたLL\n",
      "0\n",
      "1\n",
      "2\n",
      "1\n",
      "0\n",
      "test1 :  True\n",
      "オリジナルのLL\n",
      "0\n",
      "1\n",
      "2\n",
      "3\n",
      "4\n",
      "反転させたLL\n",
      "4\n",
      "3\n",
      "2\n",
      "1\n",
      "0\n",
      "test2 :  False\n"
     ]
    }
   ],
   "source": [
    "class HeadAndTail:\n",
    "    def __init__(self, h, t):\n",
    "        self.head = h\n",
    "        self.tail    = t\n",
    "        \n",
    "def reverseLL(head):\n",
    "    if head == None:\n",
    "        return None\n",
    "    \n",
    "    ht = reverseLL(head.next)\n",
    "    clonedHead = head.clone()\n",
    "    clonedHead.next = None\n",
    "\n",
    "    if ht == None:\n",
    "        return HeadAndTail(clonedHead, clonedHead)\n",
    "    \n",
    "    ht.tail.next = clonedHead\n",
    "    return HeadAndTail(ht.head, clonedHead)\n",
    "\n",
    "def isEqual(one, two):\n",
    "    head1 = one\n",
    "    head2 = two\n",
    "    while head1 != None and head2 != None:\n",
    "        if head1.data != head2.data:\n",
    "            return False\n",
    "        head1 = head1.next\n",
    "        head2 = head2.next\n",
    "    \n",
    "    return head1 == None and head2 == None\n",
    "\n",
    "def printLL(head):\n",
    "    while True:\n",
    "        print(head.data)\n",
    "        if head.next == None:\n",
    "            break\n",
    "        head = head.next\n",
    "\n",
    "def isPalindrom(head):\n",
    "    reversedLL = reverseLL(head)\n",
    "    reversedHead = reversedLL.head\n",
    "    print('オリジナルのLL')\n",
    "    printLL(head)\n",
    "    print('反転させたLL')\n",
    "    printLL(reversedHead)\n",
    "    return isEqual(head, reversedHead)\n",
    "\n",
    "def test1():\n",
    "    # build Linked List\n",
    "    node0 = Node(0)\n",
    "    node1 = Node(1)\n",
    "    node2 = Node(2)\n",
    "    node3 = Node(1)\n",
    "    node4 = Node(0)\n",
    "    \n",
    "    node0.next = node1\n",
    "    node1.next = node2\n",
    "    node2.next = node3\n",
    "    node3.next = node4\n",
    "    print('test1 : ', isPalindrom(node0)) # expected : True\n",
    "\n",
    "def test2():\n",
    "    # build Linked List\n",
    "    node0 = Node(0)\n",
    "    node1 = Node(1)\n",
    "    node2 = Node(2)\n",
    "    node3 = Node(3)\n",
    "    node4 = Node(4)\n",
    "    \n",
    "    node0.next = node1\n",
    "    node1.next = node2\n",
    "    node2.next = node3\n",
    "    node3.next = node4\n",
    "    print('test2 : ', isPalindrom(node0)) # expected : False\n",
    "    \n",
    "    \n",
    "if __name__ == '__main__':\n",
    "    test1()\n",
    "    test2()\n",
    "    "
   ]
  },
  {
   "cell_type": "markdown",
   "id": "5bb13e43",
   "metadata": {},
   "source": [
    "Linked List の解答  \n",
    "https://leetcode.com/problems/palindrome-linked-list/solution/\n",
    "\n",
    "STEP1: 2つのポインタを利用して、リストの真ん中を出す  \n",
    "  FastPointer : 2 nodes/iteration  \n",
    "  SlowPointer : 1 nodes/iteration  \n",
    "  FastポインターはSlowポインターの2倍のスピードで移動するので、  \n",
    "  Fastポインターがtailノードに着くと、SlowPointerがリストの真ん中にいることができる。  \n",
    "  \n",
    "STEP2: Reversing the Linked List  \n",
    "  ```\n",
    "  1 -> 2 -> 3 -> null\n",
    "  ▼ reversing\n",
    "  null <- 1 <- 2 <- 3 \n",
    "  ```\n",
    "  prev: null, curr: 1  \n",
    "  temp: 2, curr.next: prev(null)  \n",
    "  ▷ `null <- 1 2 -> 3 -> null`  \n",
    "  `====================(1routin)`  \n",
    "  prev: curr(1), curr: temp(2)  \n",
    "  temp: 3, curr.next: prev(1)  \n",
    "  ▷ `null <- 1 <- 2 3 -> null`  \n",
    "  `====================(1routin)`  \n",
    "  prev: curr(2), curr: temp(3)  \n",
    "  temp: null, curr.next: prev(2)  \n",
    "  ▷ `null <- 1 <- 2 <- 3`  \n",
    "  `====================(1routin)`  "
   ]
  },
  {
   "cell_type": "code",
   "execution_count": 7,
   "id": "6b9b68aa",
   "metadata": {},
   "outputs": [
    {
     "name": "stdout",
     "output_type": "stream",
     "text": [
      "test1 :  True\n",
      "test2 :  False\n"
     ]
    }
   ],
   "source": [
    "def isPalindromWith2Pointers(head):\n",
    "    fast = head\n",
    "    slow = head\n",
    "    \n",
    "    # STEP1: 2つのポインタを利用して、リストの真ん中を出す\n",
    "    while fast and fast.next:\n",
    "        fast = fast.next.next\n",
    "        slow = slow.next\n",
    "    \n",
    "    # STEP2: 真ん中より後ろのリストをリバースする\n",
    "    prev = None\n",
    "    while slow:\n",
    "            temp = slow.next\n",
    "            slow.next = prev\n",
    "            prev = slow\n",
    "            slow = temp\n",
    "    \n",
    "    # STEP3: palindromeになっているかを調べる\n",
    "    left, right = head, prev # この時prevは真ん中に来ていると思う\n",
    "    while left and right:\n",
    "        if left.data != right.data:\n",
    "            return False\n",
    "        left = left.next\n",
    "        right = right.next\n",
    "    return True\n",
    "    \n",
    "\n",
    "def test1():\n",
    "    # build Linked List\n",
    "    node0 = Node(0)\n",
    "    node1 = Node(1)\n",
    "    node2 = Node(2)\n",
    "    node3 = Node(1)\n",
    "    node4 = Node(0)\n",
    "    \n",
    "    node0.next = node1\n",
    "    node1.next = node2\n",
    "    node2.next = node3\n",
    "    node3.next = node4\n",
    "    print('test1 : ', isPalindromWith2Pointers(node0)) # expected : True\n",
    "\n",
    "def test2():\n",
    "    # build Linked List\n",
    "    node0 = Node(0)\n",
    "    node1 = Node(1)\n",
    "    node2 = Node(2)\n",
    "    node3 = Node(3)\n",
    "    node4 = Node(4)\n",
    "    \n",
    "    node0.next = node1\n",
    "    node1.next = node2\n",
    "    node2.next = node3\n",
    "    node3.next = node4\n",
    "    print('test2 : ', isPalindromWith2Pointers(node0)) # expected : False\n",
    "    \n",
    "    \n",
    "if __name__ == '__main__':\n",
    "    test1()\n",
    "    test2()"
   ]
  },
  {
   "cell_type": "markdown",
   "id": "c6278e5b",
   "metadata": {},
   "source": [
    "## §2.7 Intersection"
   ]
  },
  {
   "cell_type": "code",
   "execution_count": 9,
   "id": "37034ae3",
   "metadata": {},
   "outputs": [
    {
     "name": "stdout",
     "output_type": "stream",
     "text": [
      "None\n"
     ]
    }
   ],
   "source": [
    "# O(N, M)  ※ Let NN be the length of list A and MM be the length of list B.\n",
    "def isIntersection(one, two):\n",
    "    while one is not None:\n",
    "        pB = two\n",
    "        while pB is not None:\n",
    "            if one == pB:\n",
    "                return one\n",
    "            pB = pB.next\n",
    "        one = one.next\n",
    "        return None\n",
    "    \n",
    "\n",
    "if __name__ == '__main__':\n",
    "    # build Linked List\n",
    "    node0 = Node(3)\n",
    "    node1 = Node(1)\n",
    "    node2 = Node(5)\n",
    "    node3 = Node(9)\n",
    "    node4 = Node(7)\n",
    "    node5 = Node(2)\n",
    "    node6 = Node(1)\n",
    "    node7 = Node(4)\n",
    "    node8 = Node(6)\n",
    "    \n",
    "    node0.next = node1\n",
    "    node1.next = node2\n",
    "    node2.next = node3\n",
    "    node3.next = node4 # intersection\n",
    "    \n",
    "    node7.next = node8\n",
    "    node8.next = node4\n",
    "    node4.next = node5\n",
    "    node5.next = node6\n",
    "    \n",
    "    print(isIntersection(node0, node7))"
   ]
  },
  {
   "cell_type": "markdown",
   "id": "a317c918",
   "metadata": {},
   "source": [
    "## §2.8 Loop Detection"
   ]
  },
  {
   "cell_type": "markdown",
   "id": "ec09c9a4",
   "metadata": {},
   "source": []
  }
 ],
 "metadata": {
  "kernelspec": {
   "display_name": "Python 3 (ipykernel)",
   "language": "python",
   "name": "python3"
  },
  "language_info": {
   "codemirror_mode": {
    "name": "ipython",
    "version": 3
   },
   "file_extension": ".py",
   "mimetype": "text/x-python",
   "name": "python",
   "nbconvert_exporter": "python",
   "pygments_lexer": "ipython3",
   "version": "3.8.9"
  }
 },
 "nbformat": 4,
 "nbformat_minor": 5
}

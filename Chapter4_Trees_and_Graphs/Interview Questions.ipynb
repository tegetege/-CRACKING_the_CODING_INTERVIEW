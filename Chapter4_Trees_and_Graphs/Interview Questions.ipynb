{
 "cells": [
  {
   "cell_type": "code",
   "execution_count": 31,
   "id": "d065d974",
   "metadata": {},
   "outputs": [],
   "source": [
    "class Node:\n",
    "    def __init__(self, data):\n",
    "        self.data = data\n",
    "        self.left = None\n",
    "        self.right = None\n",
    "    \n",
    "    # 完全二分木のインサート\n",
    "    def insert(self, data):\n",
    "        if self.data:\n",
    "            if data < self.data:\n",
    "                if self.left is None:\n",
    "                    self.left = Node(data)\n",
    "                else:\n",
    "                    self.left.insert(data)\n",
    "            elif data > self.data:\n",
    "                if self.right is None:\n",
    "                    self.right = Node(data)\n",
    "                else:\n",
    "                    self.right.insert(data)\n",
    "        else:\n",
    "            self.data = data\n",
    "    \n",
    "    def insert_left(self, data):\n",
    "        if self.left is None:\n",
    "            self.left = Node(data)\n",
    "        else:\n",
    "            # MEMO: ここがinsertで良いのかは検討必要\n",
    "            self.left.insert(data)\n",
    "        \n",
    "    def insert_right(self, data):\n",
    "        if self.right is None:\n",
    "            self.right = Node(data)\n",
    "        else:\n",
    "             # MEMO: ここがinsertで良いのかは検討必要\n",
    "            self.right.insert(data)\n",
    "        \n",
    "    \n",
    "    def get_left(self):\n",
    "        return self.left\n",
    "    \n",
    "    def get_right(self):\n",
    "        return self.right"
   ]
  },
  {
   "cell_type": "markdown",
   "id": "63040608",
   "metadata": {},
   "source": [
    "### 4.4 Check Balanced\n",
    "Implement a function to check if a binary tree is balanced.   \n",
    "For the purposes of this question, a balanced tree is defined to be a tree such that the heights of the two subtrees of any node never differ by more than one.  \n",
    "=> バランスの取れた木 = あるノードの2つの部分木の高さが1以上違わない木"
   ]
  },
  {
   "cell_type": "code",
   "execution_count": 28,
   "id": "d9298adb",
   "metadata": {},
   "outputs": [
    {
     "name": "stdout",
     "output_type": "stream",
     "text": [
      "結果(期待値 : True) :  True\n",
      "=============================\n",
      "結果(期待値 : False) :  False\n"
     ]
    }
   ],
   "source": [
    "def get_height(tree):\n",
    "    if tree is None:\n",
    "        return 0\n",
    "    else:\n",
    "        # 再帰法 で部分木を見ていく\n",
    "        return max(get_height(tree.left), get_height(tree.right)) + 1\n",
    "\n",
    "def is_balanced(tree):\n",
    "    if tree is None:\n",
    "        return True\n",
    "    \n",
    "    height_diff = get_height(tree.left) - get_height(tree.right)\n",
    "    # 左右で高さの差が1以上ある場合は\n",
    "    if abs(height_diff) > 1:\n",
    "        return False\n",
    "    else:\n",
    "        # 再帰法 で部分木をチェックしていく\n",
    "        return is_balanced(tree.left) and is_balanced(tree.right)\n",
    "    \n",
    "\n",
    "tree1 = Node(5)\n",
    "tree1.insert(1)\n",
    "tree1.insert(3)\n",
    "tree1.insert(7)\n",
    "tree1.insert(9)\n",
    "print('結果(期待値 : True) : ', is_balanced(tree1))\n",
    "print('=============================')\n",
    "\n",
    "tree2= Node(5)\n",
    "tree2.insert(1)\n",
    "tree2.insert(3)\n",
    "tree2.insert(7)\n",
    "tree2.insert(9)\n",
    "tree2.insert(10)\n",
    "print('結果(期待値 : False) : ', is_balanced(tree2))"
   ]
  },
  {
   "cell_type": "markdown",
   "id": "1e8adf6d",
   "metadata": {},
   "source": [
    "### 4.5 Validate BST  \n",
    "Implement a function to check if a binary tree is a binary search tree"
   ]
  },
  {
   "cell_type": "code",
   "execution_count": 40,
   "id": "01d54fef",
   "metadata": {},
   "outputs": [
    {
     "name": "stdout",
     "output_type": "stream",
     "text": [
      "結果(期待値 : True) :  True\n",
      "=============================\n",
      "結果(期待値 : False) :  False\n",
      "=============================\n"
     ]
    }
   ],
   "source": [
    "last_node = None\n",
    "        \n",
    "def is_validated(tree):\n",
    "    # last_nodeをグローバルとして宣言する\n",
    "    global last_node\n",
    "    \n",
    "    if tree is None:\n",
    "        return True\n",
    "\n",
    "    # 1.左側を先にチェックしていく\n",
    "    if is_validated(tree.left) == False:\n",
    "        return False\n",
    "\n",
    "    #  2.左側の最後のノード値とrootを比べる\n",
    "    if last_node is not None and tree.data <= last_node:\n",
    "        return False\n",
    "\n",
    "    last_node = tree.data\n",
    "    \n",
    "    # 3.右側をチェックしていく\n",
    "    # この時last_nodeはルートのノード値になっている\n",
    "    if is_validated(tree.right) == False:\n",
    "        return False\n",
    "\n",
    "    return True\n",
    "\n",
    "        \n",
    "        \n",
    "\n",
    "tree1 = Node(5)\n",
    "tree1.insert(2)\n",
    "tree1.insert(3)\n",
    "tree1.insert(6)\n",
    "tree1.insert(8)\n",
    "print('結果(期待値 : True) : ', validated().is_validated(tree1))\n",
    "print('=============================')\n",
    "\n",
    "\n",
    "tree2 = Node(5)\n",
    "# left\n",
    "tree2.insert_left(4)\n",
    "tree2.left.insert_left(1)\n",
    "tree2.left.insert_right(3)\n",
    "# right\n",
    "tree2.insert_right(8)\n",
    "tree2.right.insert_left(2)\n",
    "print('結果(期待値 : False) : ', is_validated(tree2))\n",
    "print('=============================')\n"
   ]
  },
  {
   "cell_type": "markdown",
   "id": "3a5aaf0b",
   "metadata": {},
   "source": [
    "### 4.6 Successor(後続)\n",
    "Write an algorithm to find the \"next\" node (i.e, in-order successor) of a given node in a binary search tree.  \n",
    "You may assume that each node has a link to its parent.  \n",
    "二分探索木において、与えられたノードの「次の」ノード(すなわち、 順序上の後継者)を見つけるためのアルゴリズムを書きなさい。  \n",
    "各ノードはその親へのリンクを持っていると仮定してよい。"
   ]
  },
  {
   "cell_type": "markdown",
   "id": "527acac0",
   "metadata": {},
   "source": [
    "・ Traversal(in-order/pre-order/post-order)を利用してアウトプットした配列を使えば、successorがわかる"
   ]
  },
  {
   "cell_type": "markdown",
   "id": "ea9440d1",
   "metadata": {},
   "source": [
    "### 4.7 Build Order  \n",
    "You are given a list of projects and a list of dependencies (which is a list of pairs of projects, where the second project is dependent on the first project).  \n",
    "All of a project's dependencies must be built before the project is.  \n",
    "Find a build order that will allow the projects to be built. If there is no valid build order, return an error."
   ]
  },
  {
   "cell_type": "markdown",
   "id": "e457dd07",
   "metadata": {},
   "source": [
    "■ solution 1\n",
    "1. まず、入力するエッジのないノードを追加する(全ての依存関係で１番目にくるノードのこと)。  \n",
    "もしbuildできるプロジェクトの場合は、必ず最初のプロジェクトを持っている。(そのプロジェクトはどの依存関係も持たない)。\n",
    "1. これらのルートから全てのoutgoing edgesを削除する。ルートプロジェクトが構築できれば、他のプロジェクトがそれに依存しているかどうかは重要ではない\n",
    "1. その後、残っているものから入ってくるエッジがないノードを探し出す。　(step1とstep2と同じロジックです)。あとはこのstepの繰り返しです、\n",
    "1. ノードが残っていても、全てのノードが依存関係を持っている場合は、システムを構築する方法がないことを意味します。エラーを返すべきです。\n",
    "\n",
    "■ solution2 : DFSで解く"
   ]
  },
  {
   "cell_type": "markdown",
   "id": "20e2714d",
   "metadata": {},
   "source": [
    "### 4.8 First Common Ancestor(祖先)\n",
    "Design an algorithm and write code to find the first common ancestor of two nodes in a binary tree.  \n",
    "Avoid storing additional nodes in a data structure.  \n",
    "NOTE: This is not necessarily a binary search tree."
   ]
  },
  {
   "cell_type": "markdown",
   "id": "6767cae8",
   "metadata": {},
   "source": []
  }
 ],
 "metadata": {
  "kernelspec": {
   "display_name": "Python 3 (ipykernel)",
   "language": "python",
   "name": "python3"
  },
  "language_info": {
   "codemirror_mode": {
    "name": "ipython",
    "version": 3
   },
   "file_extension": ".py",
   "mimetype": "text/x-python",
   "name": "python",
   "nbconvert_exporter": "python",
   "pygments_lexer": "ipython3",
   "version": "3.8.9"
  }
 },
 "nbformat": 4,
 "nbformat_minor": 5
}

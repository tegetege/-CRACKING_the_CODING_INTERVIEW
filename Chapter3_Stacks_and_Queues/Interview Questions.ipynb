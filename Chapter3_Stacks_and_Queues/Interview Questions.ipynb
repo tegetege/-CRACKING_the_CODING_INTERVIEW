{
 "cells": [
  {
   "cell_type": "markdown",
   "id": "5355c3ca",
   "metadata": {},
   "source": [
    "# Stacks and Queues"
   ]
  },
  {
   "cell_type": "markdown",
   "id": "3c327daf",
   "metadata": {},
   "source": [
    "## 3.1 Three in One\n",
    "Describe how you could you use a single array to implement three stacks.\n",
    "\n",
    "### Solution\n",
    "#### Approach1: Fixed Division\n",
    "・すべてのスタックが同じ長さの場合、リストを3分割する考え方  \n",
    "  For stack1: リストのIndex [0, n/3)  \n",
    "  For stack1: リストのIndex [n/3, 2n/3)  \n",
    "  For stack1: リストのIndex [2n/3, n)  "
   ]
  },
  {
   "cell_type": "code",
   "execution_count": 1,
   "id": "da016247",
   "metadata": {},
   "outputs": [],
   "source": [
    "class FixedMultiStack:\n",
    "    def __init__(self):\n",
    "        self.numberOfStacks = 3"
   ]
  },
  {
   "cell_type": "markdown",
   "id": "b4d5a6c9",
   "metadata": {},
   "source": [
    "## 3.2 Stack Min\n",
    "How would you design a stack which, in addition to push and pop, has a function min which returns the minimum element?\n",
    "Push, pop and min should all operate in O(1) time."
   ]
  },
  {
   "cell_type": "code",
   "execution_count": 4,
   "id": "ea7bdf2b",
   "metadata": {},
   "outputs": [],
   "source": [
    "class Node:\n",
    "    def __init__(self, data, nextNode=None):\n",
    "        self.data = data          # Nodeに格納する実際のデータが入る\n",
    "        self.next = nextNode # Nodeクラスのインスタンスが入る\n",
    "        \n",
    "\n",
    "class StackMin:\n",
    "    def __init__(self):\n",
    "        self.top = None\n",
    "        self.min = float('inf')\n",
    "    \n",
    "    def push(self, item):\n",
    "        # top がNoneなら、ノードのnextはNone, topがあればノードのnextはtopの内容\n",
    "        self.top = Node(item, None if self.top == None else self.top)\n",
    "        if self.min is not None: #本当は不要だけど、MyQueueがこのクラスを利用するときにこのIFが必要になる\n",
    "            self.min = min(self.min, self.top.data)\n",
    "    \n",
    "    def pop(self):\n",
    "        # stackの最小値のデータを更新\n",
    "        if self.top.data == self.min and self.top.next != None:\n",
    "            self.__updateMin() \n",
    "        elif self.top.next == None: # ノードが最後の一個の場合\n",
    "            self.min = None\n",
    "        \n",
    "        # returnするNode\n",
    "        popNode = self.top \n",
    "        self.top = self.top.next # topを入れ替え\n",
    "        return popNode.data\n",
    "    \n",
    "    # minは予約語なのでmin_にしておく\n",
    "    def min_(self):\n",
    "        return self.min\n",
    "    \n",
    "    def peek(self):\n",
    "        return self.top.data \n",
    "    \n",
    "    def isEmpty(self):\n",
    "        return True if self.top == None else False\n",
    "\n",
    "    def __updateMin(self):\n",
    "        self.min = float(\"inf\")\n",
    "        currentNode = self.top.next # self.topは消されるので、self.top.nextから見ていく\n",
    "        while True:\n",
    "            self.min = min(self.min, currentNode.data)\n",
    "            if currentNode.next == None:\n",
    "                break\n",
    "            currentNode = currentNode.next"
   ]
  },
  {
   "cell_type": "code",
   "execution_count": 3,
   "id": "b4e847aa",
   "metadata": {},
   "outputs": [
    {
     "name": "stdout",
     "output_type": "stream",
     "text": [
      "peek (expect:2 ) :  2\n",
      "show min(expect: 0 ):   0\n",
      "isEmpty (expect: True) True\n"
     ]
    }
   ],
   "source": [
    "#  基本的なstackの動作を確認\n",
    "stack = StackMin()\n",
    "stack.push(0)\n",
    "stack.push(1)\n",
    "stack.push(2)\n",
    "print(\"peek (expect:2 ) : \", stack.peek())\n",
    "stack.pop()\n",
    "stack.pop()\n",
    "print(\"show min(expect: 0 ):  \", str(stack.min_())) # minを表示\n",
    "stack.pop()\n",
    "print(\"isEmpty (expect: True)\" , stack.isEmpty())"
   ]
  },
  {
   "cell_type": "markdown",
   "id": "9aaaad8d",
   "metadata": {},
   "source": [
    "## 3.3 Stack of Plates\n",
    "言葉の通り、「プレートのスタック」をイメージする。あまり高すぎると、倒れるかもしれない。  \n",
    "したがって、現実には、前のスタックがある閾値を超えたら、新しいスタックを開始することが多いでしょう。\n",
    "\n",
    "\"SetOfStacks \"は複数のスタックから構成され、前のスタックが容量を超えたら新しいスタックを作成する必要があるはずです。\n",
    "\n",
    "[FOLLOW UP]\n",
    "特定のサブスタックに対して pop 操作を行う関数 \"popAt\" を実装する。"
   ]
  },
  {
   "cell_type": "code",
   "execution_count": 4,
   "id": "078c8988",
   "metadata": {},
   "outputs": [],
   "source": [
    "class SetOfStacks:\n",
    "    def __init__(self, threshold=3):\n",
    "        self.threshold = threshold\n",
    "        self.currentStack = None\n",
    "        self.currentStackLength = 0\n",
    "        self.preStack = None\n",
    "    \n",
    "    def push(self, item):\n",
    "        if self.currentStack == None:\n",
    "            self.currentStack = StackMin()\n",
    "            self.currentStack.push(item)\n",
    "            self.currentStackLength += 1\n",
    "            return 0\n",
    "        \n",
    "        # 閾値に達する場合\n",
    "        if self.currentStackLength == self.threshold :\n",
    "            nextStack = StackMin()\n",
    "            self.preStack = Node(self.currentStack, nextStack)\n",
    "            self.currentStack = nextStack\n",
    "            self.currentStack.push(item)\n",
    "            self.currentStackLength = 1\n",
    "        else:\n",
    "            self.currentStack.push(item)\n",
    "            self.currentStackLength += 1\n",
    "    \n",
    "        return 0\n",
    "\n",
    "    def pop(self):\n",
    "        # 現在のstackの長さが1(現在のstackでpopするものがない場合)の場合、前のstackから持ってくる\n",
    "        if self.currentStackLength == 1:\n",
    "            # stackを入れ替えるだけでpop()は完了するので、self.currentStack.pop()は呼び出さない\n",
    "            self.currentStack = self.preStack.data \n",
    "            self.preStack = self.preStack.next\n",
    "            self.currentStackLength = self.threshold\n",
    "            \n",
    "        else:\n",
    "            self.currentStack.pop()\n",
    "            self.currentStackLength -= 1\n",
    "        \n",
    "        return 0\n",
    "    \n",
    "    def peek(self):\n",
    "            return self.currentStack.peek()"
   ]
  },
  {
   "cell_type": "code",
   "execution_count": 5,
   "id": "78565549",
   "metadata": {},
   "outputs": [
    {
     "name": "stdout",
     "output_type": "stream",
     "text": [
      "peek(expect: 11) :  11\n",
      "peek(expect: 10) :  10\n",
      "peek(expect: 1) :  1\n",
      "peek(expect: 0) :  0\n"
     ]
    }
   ],
   "source": [
    "setOfStacks = SetOfStacks(2)\n",
    "setOfStacks.push(0)\n",
    "setOfStacks.push(1)\n",
    "setOfStacks.push(10)\n",
    "setOfStacks.push(11)\n",
    "print(\"peek(expect: 11) : \", setOfStacks.peek())\n",
    "setOfStacks.pop()\n",
    "print(\"peek(expect: 10) : \", setOfStacks.peek())\n",
    "setOfStacks.pop()\n",
    "print(\"peek(expect: 1) : \", setOfStacks.peek())\n",
    "setOfStacks.pop()\n",
    "print(\"peek(expect: 0) : \", setOfStacks.peek())"
   ]
  },
  {
   "cell_type": "code",
   "execution_count": 6,
   "id": "71c2325d",
   "metadata": {},
   "outputs": [
    {
     "name": "stdout",
     "output_type": "stream",
     "text": [
      "peek(expect: 11) :  11\n"
     ]
    }
   ],
   "source": [
    "setOfStacks = SetOfStacks(2)\n",
    "setOfStacks.push(0)\n",
    "setOfStacks.push(1)\n",
    "setOfStacks.push(10)\n",
    "setOfStacks.push(11)\n",
    "setOfStacks.push(100)\n",
    "setOfStacks.push(101)\n",
    "setOfStacks.pop()\n",
    "setOfStacks.pop()\n",
    "print(\"peek(expect: 11) : \", setOfStacks.peek())"
   ]
  },
  {
   "cell_type": "markdown",
   "id": "7ce61a62",
   "metadata": {},
   "source": [
    "## 3.4 Queue via Stacks\n",
    "Implement a MyQueue class which implements a queue using two stacks.  \n",
    "■ addの時  \n",
    "pop用のstackに入っているNodeを全てpush用のstackに移してからaddする  \n",
    "\n",
    "■ removeの時  \n",
    "push用のstackに入っているNodeを全てpush用のstackに移してからremoveする"
   ]
  },
  {
   "cell_type": "code",
   "execution_count": 19,
   "id": "496faec0",
   "metadata": {},
   "outputs": [],
   "source": [
    "class MyQueue:\n",
    "    def __init__(self):\n",
    "        self.forAddStack = StackMin()\n",
    "        self.forRemoveStack = StackMin()\n",
    "        self.peek = -float('inf')\n",
    "    \n",
    "    def add(self, value):\n",
    "        # self.forRemoveStackの中身を全てself.forAddStackに移す\n",
    "        self.migration(self.forRemoveStack, self.forAddStack)\n",
    "        \n",
    "        # self.forAddStackにaddする\n",
    "        self.forAddStack.push(value)\n",
    "        \n",
    "    \n",
    "    def remove(self):\n",
    "        # self.forAddStackの中身を全てself.forRemoveStackに移す\n",
    "        self.migration(self.forAddStack, self.forRemoveStack)\n",
    "        \n",
    "        # self.forRemoveStackからremoveする\n",
    "        return self.forRemoveStack.pop()\n",
    "        \n",
    "    \n",
    "    def peek(self):\n",
    "        pass\n",
    "    \n",
    "    def isEmpty(self):\n",
    "        return self.forAddStack.isEmpty() or self.forRemoveStack.isEmpty()\n",
    "        \n",
    "    # move from stack1 to stack2\n",
    "    def migration(self, stack1, stack2):\n",
    "        while stack1.isEmpty() != True:\n",
    "            popNode = stack1.pop()\n",
    "            stack2.push(popNode)\n"
   ]
  },
  {
   "cell_type": "code",
   "execution_count": 22,
   "id": "043df633",
   "metadata": {},
   "outputs": [
    {
     "name": "stdout",
     "output_type": "stream",
     "text": [
      "===========\n",
      "remove(expect : 1) :  1\n",
      "===========\n",
      "remove(expect : 2):  2\n",
      "===========\n",
      "remove(expect : 3):  3\n",
      "===========\n",
      "remove(expect : 4):  4\n",
      "===========\n",
      "remove(expect : 5):  5\n",
      "===========\n"
     ]
    }
   ],
   "source": [
    "queue = MyQueue()\n",
    "queue.add(1)\n",
    "queue.add(2)\n",
    "queue.add(3)\n",
    "queue.add(4)\n",
    "print(\"===========\")\n",
    "print('remove(expect : 1) : ', queue.remove())\n",
    "print(\"===========\")\n",
    "print('remove(expect : 2): ', queue.remove())\n",
    "print(\"===========\")\n",
    "print('remove(expect : 3): ', queue.remove())\n",
    "print(\"===========\")\n",
    "queue.add(5)\n",
    "print('remove(expect : 4): ', queue.remove())\n",
    "print(\"===========\")\n",
    "print('remove(expect : 5): ', queue.remove())\n",
    "print(\"===========\")"
   ]
  },
  {
   "cell_type": "markdown",
   "id": "638f37e6",
   "metadata": {},
   "source": [
    "## 3.5 Sort Stack\n",
    "\n",
    "Write a program to sort a stack such that the smallest items are on the top.   \n",
    "You can use an additional temporary stack, but you may not copy the elements into any other data structure(such as an array).  \n",
    "The stack supports the following operations: push, pop, peek and isEmpty.\n",
    "\n",
    "HINT1(#14):  \n",
    "ソートの一つの方法としては、配列を順番に見て行って、新しい配列にソートされた順序でインサートすること。  \n",
    "これがstackでできる?  \n"
   ]
  },
  {
   "cell_type": "code",
   "execution_count": 7,
   "id": "d96edf1f",
   "metadata": {},
   "outputs": [
    {
     "name": "stdout",
     "output_type": "stream",
     "text": [
      "====== Show sortedStack ======\n",
      "9\n",
      "5\n",
      "5\n",
      "3\n",
      "3\n",
      "1\n"
     ]
    }
   ],
   "source": [
    "# O(N^2) time  , O(N) space\n",
    "def sortStack(unsortedStack):\n",
    "    sortedStack = StackMin() # 普通のStackクラスとして利用\n",
    "    while unsortedStack.isEmpty() != True:\n",
    "        tmp = unsortedStack.pop()\n",
    "        # tmpがpushできるpositionになるまで、sortedStackのノードをunsortedStackにpushし続ける\n",
    "        while sortedStack.isEmpty() != True and sortedStack.peek() > tmp:\n",
    "            unsortedStack.push(sortedStack.pop())\n",
    "        sortedStack.push(tmp)\n",
    "    return sortedStack\n",
    "\n",
    "unsortedStack = StackMin()\n",
    "unsortedStack.push(1)\n",
    "unsortedStack.push(5)\n",
    "unsortedStack.push(3)\n",
    "unsortedStack.push(5)\n",
    "unsortedStack.push(9)\n",
    "unsortedStack.push(3)\n",
    "sortedStack = sortStack(unsortedStack) # sort\n",
    "\n",
    "print('====== Show sortedStack ======')\n",
    "while sortedStack.isEmpty() != True :\n",
    "    print(sortedStack.pop())"
   ]
  },
  {
   "cell_type": "markdown",
   "id": "e058a628",
   "metadata": {},
   "source": [
    "## 3.6 Animal Shelter\n",
    "An animal shelter, which holds only dogs and cats, operates on a strictly(厳密に) \"first in, first out\" basis.  \n",
    "People must adopt either the \"oldest\"(based on arrival time) of all animals at the shelter, or they can select whether they would prefer a dog or a cat (and will receive the oldest animal of that type). They cannot select which specific animal they would like. Create the data structures to maintain this system and implement operations such as `enqueue, dequeuAny, dequeueDog, and dequeueCat`. You may use the built-in LinkedList data stucture."
   ]
  },
  {
   "cell_type": "code",
   "execution_count": 17,
   "id": "e419af7a",
   "metadata": {},
   "outputs": [
    {
     "name": "stdout",
     "output_type": "stream",
     "text": [
      "dequeuAny(expect: dog) :  dog\n",
      "dequeuAny(expect: cat) :  cat\n",
      "dequeuAny(expect: dog) :  dog\n",
      "dequeuAny(expect: dog) :  dog\n",
      "dequeuAny(expect: cat) :  cat\n",
      "dequeuAny(expect: cat) :  cat\n",
      "======================\n",
      "dequeuAny(expect: cat) :  cat\n",
      "dequeuAny(expect: dog) :  dog\n",
      "dequeuAny(expect: cat) :  cat\n",
      "dequeuAny(expect: cat) :  cat\n",
      "dequeuAny(expect: dog) :  dog\n",
      "dequeuAny(expect: dog) :  dog\n"
     ]
    }
   ],
   "source": [
    "class Node:\n",
    "    def __init__(self, value):\n",
    "        self.value = value\n",
    "        self.next = None\n",
    "\n",
    "class LinkedList:\n",
    "    def __init__(self):\n",
    "        self.head = None\n",
    "        self.rear = None\n",
    "    \n",
    "    # 前から追加\n",
    "    def insert(self, value):\n",
    "        newNode = Node(value)\n",
    "        # 最初の一つ目\n",
    "        if self.head == None:\n",
    "            self.head = newNode\n",
    "            self.rear = newNode\n",
    "            return\n",
    "        \n",
    "        self.rear.next = newNode\n",
    "        self.rear = self.rear.next\n",
    "    \n",
    "    # 前から削除\n",
    "    def delete(self):\n",
    "        if self.head == self.rear:\n",
    "            tmp = self.head\n",
    "            self.head = None\n",
    "            self.rear = None\n",
    "        else:\n",
    "            tmp = self.head\n",
    "            self.head = self.head.next\n",
    "        return tmp.value\n",
    "    \n",
    "    # 今回はqueueとして扱えるように、peekではhead.valueを返す\n",
    "    # (stackの場合は逆のrear.valueを返す)\n",
    "    def peek(self):\n",
    "        return self.head.value\n",
    "        \n",
    "    def isEmpty(self):\n",
    "        return True if self.head == None and self.rear == None else False\n",
    "\n",
    "class Animal:\n",
    "    def __init__(self, name):\n",
    "        self.order = None\n",
    "        self.name = name\n",
    "    \n",
    "class AnimalShelter:\n",
    "    def __init__(self):\n",
    "        self.dogs = LinkedList()\n",
    "        self.cats = LinkedList()\n",
    "        self.order = 0\n",
    "    \n",
    "    def enqueue(self, animal):\n",
    "        animal.order = self.order\n",
    "        self.order += 1\n",
    "        \n",
    "        if animal.name == 'dog':\n",
    "            self.dogs.insert(animal)\n",
    "        elif animal.name == 'cat':\n",
    "            self.cats.insert(animal)\n",
    "    \n",
    "    def dequeuAny(self):\n",
    "        if self.dogs.isEmpty() == True:\n",
    "            return self.dequeuCat()\n",
    "        elif self.cats.isEmpty() == True:\n",
    "            return self.dequeuDog()\n",
    "        \n",
    "        dog = self.dogs.peek()\n",
    "        cat = self.cats.peek()\n",
    "        if dog.order < cat.order:\n",
    "            return self.dequeuDog()\n",
    "        else:\n",
    "            return self.dequeuCat()\n",
    "        \n",
    "    def dequeuCat(self):\n",
    "        return self.cats.delete().name\n",
    "        \n",
    "    def dequeuDog(self):\n",
    "        return self.dogs.delete().name\n",
    "\n",
    "\n",
    "animals = [Animal('dog'), Animal('cat'), Animal('dog'), Animal('dog'), Animal('cat'), Animal('cat')]\n",
    "animalShelter = AnimalShelter()\n",
    "for animal in animals:\n",
    "    animalShelter.enqueue(animal)\n",
    "\n",
    "print('dequeuAny(expect: dog) : ', animalShelter.dequeuAny())\n",
    "print('dequeuAny(expect: cat) : ', animalShelter.dequeuAny())\n",
    "print('dequeuAny(expect: dog) : ', animalShelter.dequeuAny())\n",
    "print('dequeuAny(expect: dog) : ', animalShelter.dequeuAny())\n",
    "print('dequeuAny(expect: cat) : ', animalShelter.dequeuAny())\n",
    "print('dequeuAny(expect: cat) : ', animalShelter.dequeuAny())\n",
    "\n",
    "print('======================')\n",
    "\n",
    "animals = [Animal('dog'), Animal('cat'), Animal('dog'), Animal('dog'), Animal('cat'), Animal('cat')]\n",
    "animalShelter = AnimalShelter()\n",
    "for animal in animals:\n",
    "    animalShelter.enqueue(animal)\n",
    "    \n",
    "print('dequeuAny(expect: cat) : ', animalShelter.dequeuCat())\n",
    "print('dequeuAny(expect: dog) : ', animalShelter.dequeuDog())\n",
    "print('dequeuAny(expect: cat) : ', animalShelter.dequeuCat())\n",
    "print('dequeuAny(expect: cat) : ', animalShelter.dequeuCat())\n",
    "print('dequeuAny(expect: dog) : ', animalShelter.dequeuAny())\n",
    "print('dequeuAny(expect: dog) : ', animalShelter.dequeuAny())\n"
   ]
  },
  {
   "cell_type": "code",
   "execution_count": null,
   "id": "db6ee665",
   "metadata": {},
   "outputs": [],
   "source": []
  }
 ],
 "metadata": {
  "kernelspec": {
   "display_name": "Python 3 (ipykernel)",
   "language": "python",
   "name": "python3"
  },
  "language_info": {
   "codemirror_mode": {
    "name": "ipython",
    "version": 3
   },
   "file_extension": ".py",
   "mimetype": "text/x-python",
   "name": "python",
   "nbconvert_exporter": "python",
   "pygments_lexer": "ipython3",
   "version": "3.8.9"
  }
 },
 "nbformat": 4,
 "nbformat_minor": 5
}

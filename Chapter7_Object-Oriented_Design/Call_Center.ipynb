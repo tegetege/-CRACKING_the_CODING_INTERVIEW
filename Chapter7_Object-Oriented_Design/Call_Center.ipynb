{
 "cells": [
  {
   "cell_type": "markdown",
   "id": "81496c96",
   "metadata": {},
   "source": [
    "## My solution"
   ]
  },
  {
   "cell_type": "code",
   "execution_count": 1,
   "id": "bce67e35",
   "metadata": {},
   "outputs": [],
   "source": [
    "from collections import deque\n",
    "import datetime"
   ]
  },
  {
   "cell_type": "code",
   "execution_count": 4,
   "id": "81bad6f9",
   "metadata": {},
   "outputs": [],
   "source": [
    "# 従業員を表すクラス\n",
    "class Employee:\n",
    "    def __init__(self, role='', name=''):\n",
    "        self.employee={\n",
    "            'role': role,\n",
    "            'name': name\n",
    "        }\n",
    "\n",
    "# 電話を表すクラス\n",
    "class Call:\n",
    "    def __init(self, employee=None):\n",
    "        self.call = {\n",
    "            'timestamp': datetime.datetime.today(),\n",
    "            'employee': employee\n",
    "        }\n",
    "\n",
    "class Callcenter:\n",
    "    def __init__(self):\n",
    "        self.employees = {\n",
    "            'respondent': deque(),\n",
    "            'manager': deque(),\n",
    "            'director': deque()\n",
    "        }\n",
    "        self.call = deque()\n",
    "    \n",
    "        \n",
    "    # 電話に出れる人をメンバーとして追加する関数\n",
    "    # employeeインスタンスを作成してコールセンターのメンバーとして登録する\n",
    "    def addMember(self, role, name):\n",
    "        employee = Employee(role, name)\n",
    "        self.employees[member.employee.role].append(employee)\n",
    "    \n",
    "    # 電話が終わった後に動かす関数\n",
    "    # 電話担当をemployeesの中に入れて電話に出れる状態にする\n",
    "    def endCall(self, employee):\n",
    "        self.employees[member.employee.role].append(employee)\n",
    "    \n",
    "    # 電話に出る人を決める\n",
    "    # respondent -> manager -> director の順番で空いている人を電話に割り当てる\n",
    "    def dispatchCall(self):\n",
    "        for value in employees.values():\n",
    "            if len(value) > 0:\n",
    "                return value.pop()\n",
    "        return None\n",
    "        \n",
    "\n"
   ]
  },
  {
   "cell_type": "markdown",
   "id": "207dca80",
   "metadata": {},
   "source": [
    "イメージ図\n",
    "<img src=\"./img/IMG_1115.JPG\" alt=\"エビフライトライアングル\" title=\"サンプル\">"
   ]
  },
  {
   "cell_type": "code",
   "execution_count": null,
   "id": "255e73bb",
   "metadata": {},
   "outputs": [],
   "source": []
  }
 ],
 "metadata": {
  "kernelspec": {
   "display_name": "Python 3 (ipykernel)",
   "language": "python",
   "name": "python3"
  },
  "language_info": {
   "codemirror_mode": {
    "name": "ipython",
    "version": 3
   },
   "file_extension": ".py",
   "mimetype": "text/x-python",
   "name": "python",
   "nbconvert_exporter": "python",
   "pygments_lexer": "ipython3",
   "version": "3.8.9"
  }
 },
 "nbformat": 4,
 "nbformat_minor": 5
}

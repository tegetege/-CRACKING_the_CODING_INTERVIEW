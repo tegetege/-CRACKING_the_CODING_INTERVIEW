{
 "cells": [
  {
   "cell_type": "markdown",
   "id": "589f3e0c",
   "metadata": {},
   "source": [
    "## Deck of Card\n",
    "\n",
    "[Cracking the Coding Interview](https://www.crackingthecodinginterview.com/) P .127の問題\n",
    "\n",
    "\n",
    "### Reference\n",
    "https://github.com/keyejia/Cracking-the-coding-interview-in-Python/blob/master/Ch7.%20OOD/01-deck-of-cards.py  \n",
    "これはpython 2系用に書かれてそう。(xrange関数はpython2系用)"
   ]
  },
  {
   "cell_type": "markdown",
   "id": "0bfb93f2",
   "metadata": {},
   "source": [
    "### ■ CardDeck\n",
    "Cardデッキが行う動作について書かれているクラス\n",
    "- shuffle  \n",
    "　カードの枚数回シャッフルを行うメソッド\n",
    "- draw_card  \n",
    "　カードを一枚ドローする"
   ]
  },
  {
   "cell_type": "code",
   "execution_count": 1,
   "id": "6e61bd99",
   "metadata": {},
   "outputs": [],
   "source": [
    "class CardDeck():\n",
    "        def __init__(self, cards): \n",
    "            if cards:\n",
    "                self.cards = cards\n",
    "            else:\n",
    "                self.cards = []\n",
    "        \n",
    "        def shuffle(self):\n",
    "            for i in range(len(self.cards)):\n",
    "                o = random.randint(i)\n",
    "                self.cards[i], self.cards[o] = self.cards[o], self.cards[i]\n",
    "        \n",
    "        def draw_card(self):\n",
    "            # カードがからの場合は、 Card(-1, 'None') を返す. 良いアイディアがなかった\n",
    "            return self.cards.pop() if len(self.cards) != 0 else Card(-1, 'None')"
   ]
  },
  {
   "cell_type": "markdown",
   "id": "74972c64",
   "metadata": {},
   "source": [
    "### ■ Card\n",
    "Cardを定義するクラス\n",
    "インスタンスでは、カードの数とカードの絵柄が定義されている"
   ]
  },
  {
   "cell_type": "code",
   "execution_count": 2,
   "id": "f1ff0cc6",
   "metadata": {},
   "outputs": [],
   "source": [
    "class Card():\n",
    "    def __init__(self, number, suit):\n",
    "        self.number, self.suit = number, suit"
   ]
  },
  {
   "cell_type": "markdown",
   "id": "f249a962",
   "metadata": {},
   "source": [
    "### ■ BlackjackHand\n",
    "ブラックジャックハンドに関するメソッドを持つクラス\n",
    "- value  \n",
    "ブラックジャックルールでのカウントを返すメソッド"
   ]
  },
  {
   "cell_type": "code",
   "execution_count": 3,
   "id": "8c6889cc",
   "metadata": {},
   "outputs": [],
   "source": [
    "class BlackjackHand():\n",
    "        def __init__(self, cards):\n",
    "            self.cards = cards\n",
    "    \n",
    "        def value(self):\n",
    "            value = 0\n",
    "            aces = 0 # aces: ポーカー用語 AA(?)、違うエース(Ace)の複数形だ\n",
    "            \n",
    "            while True:\n",
    "                card = self.cards.draw_card()\n",
    "                if card.suit == 'None' :\n",
    "                    break\n",
    "                if card.number == 1:\n",
    "                    aces += 1\n",
    "                value += min(card.number, 10) # J,Q,Kは10としてカウント\n",
    "                \n",
    "            while value <= 11 and aces > 0:\n",
    "                    value += 10\n",
    "                    aces -= 1\n",
    "                    \n",
    "            return value"
   ]
  },
  {
   "cell_type": "code",
   "execution_count": 4,
   "id": "76dbeb86",
   "metadata": {},
   "outputs": [
    {
     "name": "stdout",
     "output_type": "stream",
     "text": [
      "number :  4  suit :  Clubs\n",
      "number :  2  suit :  Hearts\n",
      "number :  -1  suit :  None\n"
     ]
    }
   ],
   "source": [
    "deck = CardDeck([Card(2, 'Hearts'), Card(4, 'Clubs')]) \n",
    "card = deck.draw_card()\n",
    "print('number : ', card.number, ' suit : ', card.suit) # 最後に入力したカードがpopされる\n",
    "\n",
    "card = deck.draw_card()\n",
    "print('number : ', card.number, ' suit : ', card.suit)\n",
    "\n",
    "card = deck.draw_card()\n",
    "print('number : ', card.number, ' suit : ', card.suit)"
   ]
  },
  {
   "cell_type": "code",
   "execution_count": 5,
   "id": "db63df30",
   "metadata": {},
   "outputs": [
    {
     "data": {
      "text/plain": [
       "6"
      ]
     },
     "execution_count": 5,
     "metadata": {},
     "output_type": "execute_result"
    }
   ],
   "source": [
    "hand = BlackjackHand(CardDeck([Card(2, 'Hearts'), Card(4, 'Clubs')]))\n",
    "hand.value()"
   ]
  },
  {
   "cell_type": "code",
   "execution_count": 6,
   "id": "d1c34927",
   "metadata": {},
   "outputs": [
    {
     "name": "stderr",
     "output_type": "stream",
     "text": [
      "..\n",
      "----------------------------------------------------------------------\n",
      "Ran 2 tests in 0.001s\n",
      "\n",
      "OK\n"
     ]
    }
   ],
   "source": [
    "import unittest\n",
    "\n",
    "class Test(unittest.TestCase):\n",
    "    def test_card_deck(self):\n",
    "        # Cardクラスで生成したインスタンスを引数にして、CardDeckインスタンスを生成する\n",
    "        deck = CardDeck([Card(2, 'Hearts'), Card(4, 'Clubs')]) \n",
    "        self.assertEqual(deck.draw_card().suit, 'Clubs')\n",
    "    \n",
    "    def test_blackjack_hand(self):\n",
    "        hand = BlackjackHand(CardDeck([Card(5, 'Diamonds'), Card(7, 'Clubs')]))\n",
    "        self.assertEqual(hand.value(), 12)\n",
    "        hand = BlackjackHand(CardDeck([Card(5, 'Diamonds'), Card(1, 'Clubs')]))\n",
    "        self.assertEqual(hand.value(), 16)\n",
    "        hand = BlackjackHand(CardDeck([Card(12, 'Diamonds'), Card(1, 'Clubs')]))\n",
    "        self.assertEqual(hand.value(), 21)\n",
    "        hand = BlackjackHand(CardDeck([Card(12, 'Diamonds'), Card(1, 'Clubs'), Card(1, 'Hearts')]))\n",
    "        self.assertEqual(hand.value(), 12)\n",
    "\n",
    "if __name__ == '__main__':\n",
    "    # unittest.mainに設定した引数はjupyter notebookで unittestを行うときに必要みたい、とりあえずおまじない\n",
    "    # 参考 : https://otoha0510.hatenablog.com/entry/2018/02/18/022240\n",
    "    unittest.main(argv=['first-arg-is-ignored'], exit=False)\n",
    "\n",
    "        "
   ]
  },
  {
   "cell_type": "code",
   "execution_count": null,
   "id": "b82669f0",
   "metadata": {},
   "outputs": [],
   "source": []
  }
 ],
 "metadata": {
  "kernelspec": {
   "display_name": "Python 3 (ipykernel)",
   "language": "python",
   "name": "python3"
  },
  "language_info": {
   "codemirror_mode": {
    "name": "ipython",
    "version": 3
   },
   "file_extension": ".py",
   "mimetype": "text/x-python",
   "name": "python",
   "nbconvert_exporter": "python",
   "pygments_lexer": "ipython3",
   "version": "3.8.9"
  }
 },
 "nbformat": 4,
 "nbformat_minor": 5
}

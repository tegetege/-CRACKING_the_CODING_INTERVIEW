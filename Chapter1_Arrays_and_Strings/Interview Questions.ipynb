{
 "cells": [
  {
   "cell_type": "markdown",
   "id": "302fb7ad",
   "metadata": {},
   "source": [
    "## §1.1 Is Unique"
   ]
  },
  {
   "cell_type": "code",
   "execution_count": 12,
   "id": "267aa409",
   "metadata": {},
   "outputs": [
    {
     "name": "stdout",
     "output_type": "stream",
     "text": [
      "hogehoge :  Not Unique\n",
      "hogefu :  Is Unique\n"
     ]
    }
   ],
   "source": [
    "def uniqueFunc(inputText):\n",
    "    if len(inputText) > 128:\n",
    "        return \"Not Unique\"\n",
    "    length = len(inputText)\n",
    "    for i in range(length):\n",
    "        target = inputText[i]\n",
    "        for j in range(i+1, length):\n",
    "            if target == inputText[j]:\n",
    "                return \"Not Unique\"\n",
    "    return \"Is Unique\"\n",
    "\n",
    "\n",
    "if __name__ == '__main__':\n",
    "    print(\"hogehoge : \", uniqueFunc(\"hogehoge\"))\n",
    "    print(\"hogefu : \", uniqueFunc(\"hogefu\"))"
   ]
  },
  {
   "cell_type": "markdown",
   "id": "fb430e47",
   "metadata": {},
   "source": [
    "## §1.2 Check Permutation"
   ]
  },
  {
   "cell_type": "code",
   "execution_count": 11,
   "id": "789d078a",
   "metadata": {},
   "outputs": [
    {
     "name": "stdout",
     "output_type": "stream",
     "text": [
      "hogehoge / hoge :  False\n",
      "god/dog :  True\n"
     ]
    }
   ],
   "source": [
    "def checkPermutation(text1, text2):\n",
    "    text1Len = len(text1)\n",
    "    text2Len = len(text2)\n",
    "    \n",
    "    if (text1Len != text2Len):\n",
    "        return False\n",
    "    \n",
    "    # https://qiita.com/koki_develop/items/6ae22bf09899d76cec22\n",
    "    return text1 == text2[::-1]\n",
    "    \n",
    "\n",
    "if __name__ == '__main__':\n",
    "    print(\"hogehoge / hoge : \", checkPermutation(\"hogehoge\", \"hoge\"))\n",
    "    print(\"god/dog : \", checkPermutation(\"god\", \"dog\"))"
   ]
  },
  {
   "cell_type": "markdown",
   "id": "b4d3c318",
   "metadata": {},
   "source": [
    "## §1.3 URLify\n",
    "- 足し算をする形式は毎回コピーすることが無駄になるので、リスト形式で考える"
   ]
  },
  {
   "cell_type": "code",
   "execution_count": 3,
   "id": "12543f15",
   "metadata": {},
   "outputs": [
    {
     "name": "stdout",
     "output_type": "stream",
     "text": [
      "Mr John Smith :  Mr%20John%20Smith\n",
      "I am baby. :  I%20am%20baby.\n"
     ]
    }
   ],
   "source": [
    "def urlify(inputURL):\n",
    "    target = list(inputURL)\n",
    "    for i in range(len(target)):\n",
    "        if target[i] == \" \":\n",
    "            target[i] = \"%20\"\n",
    "    return \"\".join(target)\n",
    "\n",
    "\n",
    "if __name__ == '__main__':\n",
    "    print(\"Mr John Smith : \", urlify(\"Mr John Smith\"))\n",
    "    print(\"I am baby. : \", urlify(\"I am baby.\"))"
   ]
  },
  {
   "cell_type": "markdown",
   "id": "8e3fa813",
   "metadata": {},
   "source": [
    "## §1.6 String Compression"
   ]
  },
  {
   "cell_type": "code",
   "execution_count": 9,
   "id": "ea70d86b",
   "metadata": {},
   "outputs": [
    {
     "name": "stdout",
     "output_type": "stream",
     "text": [
      "aabcccccaaa :  a2b1c5a3\n",
      "aa :  a2\n",
      "hogehoge :  h1o1g1e1h1o1g1e1\n"
     ]
    }
   ],
   "source": [
    "def stringCompression(targetString):\n",
    "    stringList = list(targetString)\n",
    "    indexMemory = 0\n",
    "    ans = ''\n",
    "    for i in range(1, len(stringList)):\n",
    "        if stringList[i] != stringList[i -1]:\n",
    "            ans += stringList[i -1] + str(i - indexMemory)\n",
    "            indexMemory = i\n",
    "\n",
    "    ans += stringList[-1] + str(len(stringList) - indexMemory)\n",
    "    return ans\n",
    "        \n",
    "    \n",
    "if __name__ == '__main__':\n",
    "    print('aabcccccaaa : ', stringCompression('aabcccccaaa'))\n",
    "    print('aa : ', stringCompression('aa'))\n",
    "    print('hogehoge : ', stringCompression('hogehoge'))"
   ]
  },
  {
   "cell_type": "markdown",
   "id": "bab661b7",
   "metadata": {},
   "source": [
    "## §1.7 Rotate Matrix"
   ]
  },
  {
   "cell_type": "code",
   "execution_count": 5,
   "id": "0fb81289",
   "metadata": {},
   "outputs": [
    {
     "name": "stdout",
     "output_type": "stream",
     "text": [
      "[[3, 1], [4, 2]]\n",
      "target1 :  True\n",
      "target2 :  False\n",
      "[[7, 4, 1], [8, 5, 2], [9, 6, 3]]\n",
      "target3 :  True\n"
     ]
    }
   ],
   "source": [
    "def rotateMatrix(targetMatrix):\n",
    "    if (len(targetMatrix) == 0 or len(targetMatrix) != len(targetMatrix[0])):\n",
    "        return False\n",
    "    n = len(targetMatrix)\n",
    "    \n",
    "    for layer in range(int(n / 2)):\n",
    "        first = layer\n",
    "        last = n - 1 - layer\n",
    "        for i in range(last):\n",
    "            offset = i - first\n",
    "            \n",
    "            top = targetMatrix[first][i]\n",
    "            \n",
    "            # left -> top\n",
    "            targetMatrix[first][i] = targetMatrix[last - offset][first]\n",
    "            \n",
    "            # bottom -> left\n",
    "            targetMatrix[last - offset][first] = targetMatrix[last][last - offset]\n",
    "            \n",
    "            # right -> bottom\n",
    "            targetMatrix[last][last - offset] = targetMatrix[i][last]\n",
    "            \n",
    "            # top -> right\n",
    "            targetMatrix[i][last] = top\n",
    "    print(targetMatrix)\n",
    "    return True\n",
    "        \n",
    "        \n",
    "    \n",
    "if __name__ == '__main__':\n",
    "    target1 = [[1,2],[3,4]]\n",
    "    print('target1 : ', rotateMatrix(target1)) # Expectation : True\n",
    "    \n",
    "    target2 = [[1,2, 3],[4, 5, 6]]\n",
    "    print('target2 : ', rotateMatrix(target2)) # Expectation : False\n",
    "    \n",
    "    target3 = [[1,2, 3],[4, 5, 6], [7, 8, 9]]\n",
    "    print('target3 : ', rotateMatrix(target3)) # Expectation : True\n"
   ]
  },
  {
   "cell_type": "markdown",
   "id": "8f1d81d9",
   "metadata": {},
   "source": [
    "## §1.8 Zero Matrix"
   ]
  },
  {
   "cell_type": "markdown",
   "id": "357691b5",
   "metadata": {},
   "source": [
    "## §1.9 String Rotation"
   ]
  },
  {
   "cell_type": "code",
   "execution_count": 23,
   "id": "ac4efaee",
   "metadata": {},
   "outputs": [
    {
     "name": "stdout",
     "output_type": "stream",
     "text": [
      "wat  :  erbottle\n",
      "wat  :  erbottle\n",
      "s1: waterbottle, s2: erbottlewat :  True\n",
      "hogehoge  :  \n",
      "hogehoge  :  \n",
      "s1: hogehoge, s2: hogehoge :  True\n",
      "hoge  :  fuga\n",
      "hoge  :  fuga\n",
      "s1: hogefuga, s2: fugahoge :  True\n",
      "hoge  :  hoge\n",
      "fuga  :  hoge\n",
      "s1: hogehoge, s2: hogefuga :  False\n"
     ]
    }
   ],
   "source": [
    "def isSubstring(s1, s2):\n",
    "    if len(s1) != len(s2):\n",
    "        return False\n",
    "    \n",
    "    x = s1[0] \n",
    "    y = ''\n",
    "    index = 0\n",
    "    while index + 1 < len(s1) and (x + s1[index + 1]) in s2:\n",
    "        index += 1\n",
    "        x += s1[index]\n",
    "    \n",
    "    y = s1[len(x):]\n",
    "    print(x, ' : ', y)\n",
    "    print(s2[-1 * len(x) :], ' : ', s2[:-1 * len(x)])\n",
    "    # ここの判定がだいぶややこしい...\n",
    "    return  (x in s2[-1 * len(x) :]) and (y in s2[:-1 * len(x)])\n",
    "\n",
    "\n",
    "if __name__ == '__main__':\n",
    "    print('s1: waterbottle, s2: erbottlewat : ', isSubstring('waterbottle', 'erbottlewat'))\n",
    "    print('s1: hogehoge, s2: hogehoge : ', isSubstring('hogehoge', 'hogehoge'))\n",
    "    print('s1: hogefuga, s2: fugahoge : ', isSubstring('hogefuga', 'fugahoge'))\n",
    "    print('s1: hogehoge, s2: hogefuga : ', isSubstring('hogehoge', 'hogefuga'))"
   ]
  },
  {
   "cell_type": "code",
   "execution_count": null,
   "id": "db035e77",
   "metadata": {},
   "outputs": [],
   "source": []
  },
  {
   "cell_type": "code",
   "execution_count": null,
   "id": "83823a6c",
   "metadata": {},
   "outputs": [],
   "source": []
  }
 ],
 "metadata": {
  "kernelspec": {
   "display_name": "Python 3 (ipykernel)",
   "language": "python",
   "name": "python3"
  },
  "language_info": {
   "codemirror_mode": {
    "name": "ipython",
    "version": 3
   },
   "file_extension": ".py",
   "mimetype": "text/x-python",
   "name": "python",
   "nbconvert_exporter": "python",
   "pygments_lexer": "ipython3",
   "version": "3.8.9"
  }
 },
 "nbformat": 4,
 "nbformat_minor": 5
}

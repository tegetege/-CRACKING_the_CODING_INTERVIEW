{
 "cells": [
  {
   "cell_type": "markdown",
   "id": "302fb7ad",
   "metadata": {},
   "source": [
    "## §1.1 Is Unique"
   ]
  },
  {
   "cell_type": "code",
   "execution_count": 12,
   "id": "267aa409",
   "metadata": {},
   "outputs": [
    {
     "name": "stdout",
     "output_type": "stream",
     "text": [
      "hogehoge :  Not Unique\n",
      "hogefu :  Is Unique\n"
     ]
    }
   ],
   "source": [
    "def uniqueFunc(inputText):\n",
    "    length = len(inputText)\n",
    "    for i in range(length):\n",
    "        target = inputText[i]\n",
    "        for j in range(i+1, length):\n",
    "            if target == inputText[j]:\n",
    "                return \"Not Unique\"\n",
    "    return \"Is Unique\"\n",
    "\n",
    "\n",
    "if __name__ == '__main__':\n",
    "    print(\"hogehoge : \", uniqueFunc(\"hogehoge\"))\n",
    "    print(\"hogefu : \", uniqueFunc(\"hogefu\"))"
   ]
  },
  {
   "cell_type": "markdown",
   "id": "fb430e47",
   "metadata": {},
   "source": [
    "## §1.2 Check Permutation"
   ]
  },
  {
   "cell_type": "code",
   "execution_count": 11,
   "id": "789d078a",
   "metadata": {},
   "outputs": [
    {
     "name": "stdout",
     "output_type": "stream",
     "text": [
      "hogehoge / hoge :  False\n",
      "god/dog :  True\n"
     ]
    }
   ],
   "source": [
    "def checkPermutation(text1, text2):\n",
    "    text1Len = len(text1)\n",
    "    text2Len = len(text2)\n",
    "    \n",
    "    if (text1Len != text2Len):\n",
    "        return False\n",
    "    \n",
    "    # https://qiita.com/koki_develop/items/6ae22bf09899d76cec22\n",
    "    return text1 == text2[::-1]\n",
    "    \n",
    "\n",
    "if __name__ == '__main__':\n",
    "    print(\"hogehoge / hoge : \", checkPermutation(\"hogehoge\", \"hoge\"))\n",
    "    print(\"god/dog : \", checkPermutation(\"god\", \"dog\"))"
   ]
  },
  {
   "cell_type": "markdown",
   "id": "b4d3c318",
   "metadata": {},
   "source": [
    "## §1.3 URLify\n",
    "- 足し算をする形式は毎回コピーすることが無駄になるので、リスト形式で考える"
   ]
  },
  {
   "cell_type": "code",
   "execution_count": 3,
   "id": "12543f15",
   "metadata": {},
   "outputs": [
    {
     "name": "stdout",
     "output_type": "stream",
     "text": [
      "Mr John Smith :  Mr%20John%20Smith\n",
      "I am baby. :  I%20am%20baby.\n"
     ]
    }
   ],
   "source": [
    "def urlify(inputURL):\n",
    "    target = list(inputURL)\n",
    "    for i in range(len(target)):\n",
    "        if target[i] == \" \":\n",
    "            target[i] = \"%20\"\n",
    "    return \"\".join(target)\n",
    "\n",
    "\n",
    "if __name__ == '__main__':\n",
    "    print(\"Mr John Smith : \", urlify(\"Mr John Smith\"))\n",
    "    print(\"I am baby. : \", urlify(\"I am baby.\"))"
   ]
  },
  {
   "cell_type": "code",
   "execution_count": null,
   "id": "b88b4f01",
   "metadata": {},
   "outputs": [],
   "source": []
  }
 ],
 "metadata": {
  "kernelspec": {
   "display_name": "Python 3 (ipykernel)",
   "language": "python",
   "name": "python3"
  },
  "language_info": {
   "codemirror_mode": {
    "name": "ipython",
    "version": 3
   },
   "file_extension": ".py",
   "mimetype": "text/x-python",
   "name": "python",
   "nbconvert_exporter": "python",
   "pygments_lexer": "ipython3",
   "version": "3.8.9"
  }
 },
 "nbformat": 4,
 "nbformat_minor": 5
}
